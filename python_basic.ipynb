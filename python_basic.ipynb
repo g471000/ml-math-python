{
 "cells": [
  {
   "cell_type": "markdown",
   "id": "79ebd769",
   "metadata": {},
   "source": [
    "# Python Basic"
   ]
  },
  {
   "cell_type": "code",
   "execution_count": 5,
   "id": "18b4ac24",
   "metadata": {},
   "outputs": [
    {
     "name": "stdout",
     "output_type": "stream",
     "text": [
      "123\n"
     ]
    }
   ],
   "source": [
    "a = 123\n",
    "b_123 = 123.456\n",
    "hello = \"Hello World!\"\n",
    "\n",
    "print(a)"
   ]
  },
  {
   "cell_type": "code",
   "execution_count": 6,
   "id": "5a0b882c",
   "metadata": {},
   "outputs": [
    {
     "name": "stdout",
     "output_type": "stream",
     "text": [
      "123 123.456 Hello World!\n"
     ]
    }
   ],
   "source": [
    "print(123, 123.456, hello)"
   ]
  },
  {
   "cell_type": "code",
   "execution_count": 11,
   "id": "7f6dc7a4",
   "metadata": {},
   "outputs": [
    {
     "name": "stdout",
     "output_type": "stream",
     "text": [
      "adding: 7\n",
      "subtracing: -1\n",
      "multiply: 12\n",
      "power: 81\n"
     ]
    }
   ],
   "source": [
    "a = 3\n",
    "b = 4\n",
    "\n",
    "c = a + b\n",
    "print(\"adding:\", c)\n",
    "\n",
    "d = a - b\n",
    "print(\"subtracing:\", d)\n",
    "\n",
    "e = a * b\n",
    "print(\"multiply:\", e)\n",
    "\n",
    "f = a ** b\n",
    "print(\"power:\", f)"
   ]
  },
  {
   "cell_type": "code",
   "execution_count": 14,
   "id": "21f1447f",
   "metadata": {},
   "outputs": [
    {
     "name": "stdout",
     "output_type": "stream",
     "text": [
      "division float: 0.75\n",
      "division integer: 0\n",
      "division remainder 3\n"
     ]
    }
   ],
   "source": [
    "g = a / b\n",
    "print(\"division float:\", g)\n",
    "\n",
    "h = a // b\n",
    "print(\"division integer:\", h)\n",
    "\n",
    "i = a % b\n",
    "print(\"division remainder\", i)"
   ]
  },
  {
   "cell_type": "code",
   "execution_count": 17,
   "id": "73b3e7dd",
   "metadata": {},
   "outputs": [
    {
     "name": "stdout",
     "output_type": "stream",
     "text": [
      "value: 5\n",
      "adding 3: 8\n",
      "subtracting 5: 3\n"
     ]
    }
   ],
   "source": [
    "j = 5\n",
    "print(\"value:\", j)\n",
    "\n",
    "j += 3\n",
    "print(\"adding 3:\", j)\n",
    "\n",
    "j -= 5\n",
    "print(\"subtracting 5:\", j)\n"
   ]
  }
 ],
 "metadata": {
  "kernelspec": {
   "display_name": "Python 3 (ipykernel)",
   "language": "python",
   "name": "python3"
  },
  "language_info": {
   "codemirror_mode": {
    "name": "ipython",
    "version": 3
   },
   "file_extension": ".py",
   "mimetype": "text/x-python",
   "name": "python",
   "nbconvert_exporter": "python",
   "pygments_lexer": "ipython3",
   "version": "3.9.7"
  }
 },
 "nbformat": 4,
 "nbformat_minor": 5
}
